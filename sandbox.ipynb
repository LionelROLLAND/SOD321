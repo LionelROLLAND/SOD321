{
 "cells": [
  {
   "cell_type": "markdown",
   "metadata": {},
   "source": [
    "# Sandbox pour développer et tester + facilement\n",
    "\n",
    "L'idée c'est de tester ici (c'est quand même beaucoup plus simple que de manier le REPL Julia ou de run un fichier entier à chaque fois) pour accélérer le dévelopement :-)"
   ]
  },
  {
   "cell_type": "code",
   "execution_count": null,
   "metadata": {},
   "outputs": [],
   "source": [
    "using JuMP, Gurobi\n",
    "\n",
    "include(joinpath(\"src\", \"read.jl\"))"
   ]
  },
  {
   "cell_type": "code",
   "execution_count": null,
   "metadata": {},
   "outputs": [],
   "source": [
    "n, d, f, Amin, Nr, R, regions, coords, D = readInstance(joinpath(\"data\", \"instance_6_1.txt\"))\n",
    "\n",
    "neighb = Vector{Set{Int64}}(undef, n)\n",
    "arcs = Set{Tuple{Int64, Int64}}()\n",
    "\n",
    "for i in 1:n\n",
    "    neighb[i] = Set{Int64}()\n",
    "    for j in 1:n\n",
    "        if D[i, j] <= R && j != i\n",
    "            push!(neighb[i], j)\n",
    "            push!(arcs, (i, j))\n",
    "        end\n",
    "    end\n",
    "end\n",
    "\n",
    "println(\"nb sommets = \", n)\n",
    "println(\"depart = \", d)\n",
    "println(\"fin = \", f)\n",
    "println(\"min nb aerodromes a visiter = \", Amin)\n",
    "println(\"nb regions = \", Nr)\n",
    "println(\"R = \", R)\n"
   ]
  },
  {
   "cell_type": "code",
   "execution_count": null,
   "metadata": {},
   "outputs": [],
   "source": [
    "arcs"
   ]
  },
  {
   "cell_type": "code",
   "execution_count": null,
   "metadata": {},
   "outputs": [],
   "source": [
    "neighb"
   ]
  },
  {
   "cell_type": "code",
   "execution_count": null,
   "metadata": {},
   "outputs": [],
   "source": [
    "struct GraphInfo\n",
    "    neighb::Vector{Set{Int64}}\n",
    "    arc_values::Any\n",
    "end\n",
    "\n",
    "mutable struct TarjanState\n",
    "    fifo::Vector{Int64}\n",
    "    is_in_fifo::Vector{Bool}\n",
    "    first_seen_time::Vector{Int64}\n",
    "    lowest_accessible::Int64\n",
    "    time::Int64\n",
    "    components::Vector{Vector{Int64}}\n",
    "end\n",
    "\n",
    "function rec_tarjan(node::Int64, graph_info::GraphInfo, state::TarjanState)\n",
    "    state.first_seen_time[node] = state.time\n",
    "    state.lowest_accessible[node] = state.time\n",
    "    state.time += 1\n",
    "    push!(state.fifo, node)\n",
    "    state.is_in_fifo[node] = true\n",
    "    for v in graph_info.neighb[node]\n",
    "        if state.first_seen_time[v] == -1 && graph_info.arc_values[(node, v)] > 0\n",
    "            rec_tarjan(node=v, graph_info=graph_info, state=state)\n",
    "        end\n",
    "        if state.is_in_fifo[v]\n",
    "            state.lowest_accessible[node] = min(state.lowest_accessible[node], state.lowest_accessible[v])\n",
    "        end\n",
    "    end\n",
    "    if state.lowest_accessible[node] == state.first_seen_time[node]\n",
    "        new_comp = Vector{Int64}(undef, 0)\n",
    "        to_add = -1\n",
    "        while to_add != node\n",
    "            to_add = pop!(state.fifo)\n",
    "            push!(new_comp,  to_add)\n",
    "            state.is_in_fifo[to_add] = false\n",
    "        end\n",
    "        push!(new_comp, to_add)\n",
    "    end\n",
    "end\n",
    "\n",
    "function strongConnectedComps(neighb::Vector{Set{Int64}}, arc_values)::Vector{Vector{Int64}}\n",
    "\n",
    "end"
   ]
  }
 ],
 "metadata": {
  "kernelspec": {
   "display_name": "Julia 1.7.2",
   "language": "julia",
   "name": "julia-1.7"
  },
  "language_info": {
   "file_extension": ".jl",
   "mimetype": "application/julia",
   "name": "julia",
   "version": "1.7.2"
  },
  "orig_nbformat": 4
 },
 "nbformat": 4,
 "nbformat_minor": 2
}
