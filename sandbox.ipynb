{
 "cells": [
  {
   "cell_type": "markdown",
   "metadata": {},
   "source": [
    "# Sandbox pour développer et tester + facilement\n",
    "\n",
    "L'idée c'est de tester ici (c'est quand même beaucoup plus simple que de manier le REPL Julia ou de run un fichier entier à chaque fois) pour accélérer le dévelopement :-)"
   ]
  },
  {
   "cell_type": "code",
   "execution_count": null,
   "metadata": {},
   "outputs": [],
   "source": [
    "using JuMP, Gurobi\n",
    "\n",
    "include(joinpath(\"src\", \"read.jl\"))"
   ]
  }
 ],
 "metadata": {
  "kernelspec": {
   "display_name": "Julia 1.7.2",
   "language": "julia",
   "name": "julia-1.7"
  },
  "language_info": {
   "file_extension": ".jl",
   "mimetype": "application/julia",
   "name": "julia",
   "version": "1.7.2"
  },
  "orig_nbformat": 4
 },
 "nbformat": 4,
 "nbformat_minor": 2
}
